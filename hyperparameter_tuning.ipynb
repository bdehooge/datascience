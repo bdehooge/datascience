{
 "cells": [
  {
   "cell_type": "code",
   "execution_count": 6,
   "metadata": {},
   "outputs": [],
   "source": [
    "#!pip install --user scikit_optimize\n",
    "#!pip install --user tpot"
   ]
  },
  {
   "cell_type": "code",
   "execution_count": 7,
   "metadata": {},
   "outputs": [],
   "source": [
    "import warnings\n",
    "warnings.filterwarnings('ignore')\n",
    "\n",
    "import pandas as pd\n",
    "from sklearn.model_selection import train_test_split\n",
    "from sklearn.svm import SVC\n",
    "from sklearn.model_selection import GridSearchCV\n",
    "from skopt import BayesSearchCV\n",
    "from skopt.space import Categorical, Real\n",
    "from tpot import TPOTClassifier\n",
    "\n",
    "# Load the data set\n",
    "raisins = pd.read_csv('Raisin_Dataset.csv')\n",
    "X = raisins.drop('Class', axis=1)\n",
    "y = raisins['Class']\n",
    "\n",
    "# Split the data set into training and testing sets\n",
    "X_train, X_test, y_train, y_test = train_test_split(X, y)"
   ]
  },
  {
   "cell_type": "code",
   "execution_count": 8,
   "metadata": {},
   "outputs": [
    {
     "name": "stdout",
     "output_type": "stream",
     "text": [
      "SVC(C=100, kernel='linear')\n",
      "            Score                    \n",
      "C             1         10        100\n",
      "kernel                               \n",
      "linear   0.853333  0.852222  0.854444\n",
      "rbf      0.818889  0.833333  0.852222\n",
      "sigmoid  0.222222  0.218889  0.217778\n",
      "GridSearchCV test score:  0.7955555555555556\n"
     ]
    }
   ],
   "source": [
    "# Create an SVC model\n",
    "svm = SVC()\n",
    "\n",
    "# Dictionary of parameters for GridSearchCV\n",
    "parameters = {'kernel': ['linear', 'rbf', 'sigmoid'], 'C': [1,10,100]}\n",
    "\n",
    "# Create a GridSearchCV model\n",
    "grid = GridSearchCV(svm, parameters)\n",
    "\n",
    "# Fit the GridSearchCV model to the training data\n",
    "grid.fit(X, y)\n",
    "\n",
    "# Print the model and hyperparameters obtained by GridSearchCV\n",
    "print(grid.best_estimator_)\n",
    "\n",
    "# Print a table summarizing the results of GridSearchCV\n",
    "df = pd.concat([pd.DataFrame(grid.cv_results_['params']), pd.DataFrame(grid.cv_results_['mean_test_score'], columns=['Score'])], axis=1)\n",
    "cv_table = df.pivot(index='kernel', columns='C')\n",
    "print(cv_table)\n",
    "\n",
    "# Print the accuracy of the final model on the test data\n",
    "print('GridSearchCV test score: ', grid.score(X_test, y_test))"
   ]
  },
  {
   "cell_type": "code",
   "execution_count": 9,
   "metadata": {},
   "outputs": [
    {
     "name": "stdout",
     "output_type": "stream",
     "text": [
      "SVC(C=77.9461057690015, kernel='linear')\n",
      "Bayes Search CV test score:  0.8044444444444444\n"
     ]
    }
   ],
   "source": [
    "# Dictionary of parameters for BayesSearchCV\n",
    "search_spaces = {'kernel': Categorical(['linear', 'rbf', 'sigmoid']), 'C': Real(1, 100, prior='uniform')}\n",
    "\n",
    "# Create a BayesSearchCV model\n",
    "bayes = BayesSearchCV(svm, search_spaces, n_iter= 10)\n",
    "\n",
    "# Fit the BayesSearchCV model to the training data\n",
    "bayes.fit(X_train, y_train)\n",
    "\n",
    "# Print the model and hyperparameters obtained by BayesSearchCV\n",
    "print(bayes.best_estimator_)\n",
    "\n",
    "# Print the accuracy of the final model on the test data\n",
    "print('Bayes Search CV test score: ', bayes.score(X_test, y_test))"
   ]
  },
  {
   "cell_type": "code",
   "execution_count": 10,
   "metadata": {},
   "outputs": [
    {
     "name": "stdout",
     "output_type": "stream",
     "text": [
      "TPOT test score:  0.8044444444444444\n"
     ]
    }
   ],
   "source": [
    "# Create a TPOTClassifier model\n",
    "tpot = TPOTClassifier(generations= 2, population_size= 20)\n",
    "\n",
    "# Fit the TPOTClassifier model to the training data\n",
    "tpot.fit(X_train, y_train)\n",
    "\n",
    "# Print the accuracy of the final model on the test data\n",
    "print('TPOT test score: ', tpot.score(X_test, y_test))\n",
    "\n",
    "# Export TPOTClassifier's final model to a separate file\n",
    "tpot.export('tpot_pipeline.py')"
   ]
  }
 ],
 "metadata": {
  "kernelspec": {
   "display_name": "Python 3.9.7",
   "language": "python",
   "name": "python3"
  },
  "language_info": {
   "codemirror_mode": {
    "name": "ipython",
    "version": 3
   },
   "file_extension": ".py",
   "mimetype": "text/x-python",
   "name": "python",
   "nbconvert_exporter": "python",
   "pygments_lexer": "ipython3",
   "version": "3.9.7"
  },
  "orig_nbformat": 4,
  "vscode": {
   "interpreter": {
    "hash": "f3233e40f9b877982be47a71668a2355bbf503c670d12ba5911a8fbc6d2da014"
   }
  }
 },
 "nbformat": 4,
 "nbformat_minor": 2
}
